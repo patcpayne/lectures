{
 "cells": [
  {
   "cell_type": "markdown",
   "source": [
    "# **Data Analysis and Study Design**\n",
    "\n",
    "### Author\n",
    "- Patrick Payne, MPH\n",
    "- Share the research office with Alex\n",
    "- Background in computational astrophysics and public health\n",
    "- Role of supporting research, QI, and all other scholarly work in the department\n",
    "\n",
    "### Learning Objectives\n",
    "- Explain numerical intuition and its value in studies\n",
    "- Build an understanding of common statistics and their interpretations\n",
    "- Differentiate experimental study designs\n",
    "- Differentiate observational study designs\n",
    "- Introduce Data Science, Machine Learning, and Artificial Intelligence in Anesthesia\n",
    "\n",
    "---\n",
    "---"
   ],
   "metadata": {
    "collapsed": false
   },
   "id": "691f30903d5f7a59"
  },
  {
   "cell_type": "markdown",
   "source": [
    "## Numerical Intuition\n",
    "- the ability to see data, describe the data, and provide a meaningful interpretation -> telling a story\n",
    "- (This can be as simple as interpreting a p-value or combining multiple, complex data streams to give a single picture)\n",
    "- supports making a decision from the data instead of having the data make your decision\n",
    "- built through experience, trial/error, and critical analysis of data in multiple settings"
   ],
   "metadata": {
    "collapsed": false
   },
   "id": "21e647a23054e9ca"
  },
  {
   "cell_type": "markdown",
   "source": [
    "![SedLine brain function monitor display from Masimo](https://th.bing.com/th/id/R.a4338dcc7cd3bd57c2f605f498bf993d?rik=wtaeX9iYdEWCqg&riu=http%3a%2f%2fwww.masimo.co.uk%2fsiteassets%2fus%2fimages%2fproducts%2fcontinuous-monitors%2froot-platform%2fnext-generation-sedline%2froot_sed_digital_1-up_us_6.29.17_web.jpg&ehk=hMn359jM%2befjAqgwU3ZiQYUiUYttA%2bQ5P3004yt7q40%3d&risl=&pid=ImgRaw&r=0)\n",
    "- EEG Waveforms\n",
    "- Patient State Index\n",
    "- EMG\n",
    "- Suppression Ratio\n",
    "- Spectral Edge Frequencies\n",
    "- Density Spectral Array: power spectrum, frequency range, etc. "
   ],
   "metadata": {
    "collapsed": false
   },
   "id": "112ec63d38a599c8"
  },
  {
   "cell_type": "markdown",
   "source": [
    "## Using Statistics - Sensitivity and Specificity\n",
    "\n",
    "<style type=\"text/css\">\n",
    ".tg  {border-collapse:collapse;border-spacing:0;}\n",
    ".tg td{border-color:black;border-style:solid;border-width:1px;font-family:Arial, sans-serif;font-size:14px;\n",
    "  overflow:hidden;padding:10px 5px;word-break:normal;}\n",
    ".tg th{border-color:black;border-style:solid;border-width:1px;font-family:Arial, sans-serif;font-size:14px;\n",
    "  font-weight:normal;overflow:hidden;padding:10px 5px;word-break:normal;}\n",
    ".tg .tg-1jsq{border-color:inherit;font-size:medium;text-align:center;vertical-align:middle}\n",
    ".tg .tg-oesp{border-color:inherit;font-size:medium;font-weight:bold;text-align:center;vertical-align:top}\n",
    ".tg .tg-gom2{border-color:inherit;font-size:medium;text-align:center;vertical-align:top}\n",
    ".tg .tg-0pky{border-color:inherit;text-align:left;vertical-align:top}\n",
    ".tg .tg-f8tv{border-color:inherit;font-style:italic;text-align:left;vertical-align:top}\n",
    ".tg .tg-c6of{background-color:#ffffff;border-color:inherit;text-align:left;vertical-align:top}\n",
    "</style>\n",
    "<table class=\"tg\">\n",
    "<thead>\n",
    "  <tr>\n",
    "    <th class=\"tg-oesp\" colspan=\"2\">Confusion Matrix</th>\n",
    "    <th class=\"tg-gom2\" colspan=\"2\">Predicted Condition</th>\n",
    "  </tr>\n",
    "</thead>\n",
    "<tbody>\n",
    "  <tr>\n",
    "    <td class=\"tg-1jsq\" rowspan=\"3\">Actual Condition</td>\n",
    "    <td class=\"tg-0pky\"></td>\n",
    "    <td class=\"tg-f8tv\">Predicted Positive </td>\n",
    "    <td class=\"tg-f8tv\">Predicted Negative</td>\n",
    "  </tr>\n",
    "  <tr>\n",
    "    <td class=\"tg-f8tv\">Actual Positive</td>\n",
    "    <td class=\"tg-c6of\">True Positive (TP)</td>\n",
    "    <td class=\"tg-0pky\">False Negative (FN)</td>\n",
    "  </tr>\n",
    "  <tr>\n",
    "    <td class=\"tg-f8tv\">Actual Negative</td>\n",
    "    <td class=\"tg-0pky\">False Positive (FP)</td>\n",
    "    <td class=\"tg-c6of\">True Negative (TN)</td>\n",
    "  </tr>\n",
    "</tbody>\n",
    "</table>\n",
    "\n",
    "### How good is this test?\n",
    "\n",
    "Can the test predict an actual positive case? \n",
    "- How many of the actual cases are testing positive?\n",
    "    - Look at the number of times the patient had (a positive test and the condition) considering that they (actually had the condition)\n",
    "    - $\\huge \\frac{\\text{Actual Positive and Predicted Positive}}{\\text{Actual Positive}} = \\frac{TP}{TP + \\color{blue}{FN}} $ \n",
    "    <br><br>\n",
    "- How many of the positive tests are actual cases?\n",
    "    - Look at the number of times the patient had (a positive test and the condition) considering that they (tested positive)\n",
    "    - $\\huge \\frac{\\text{Actual Positive and Predicted Positive}}{\\text{Predicted Positive}} = \\frac{TP}{TP + \\color{blue}{FP}} $\n",
    "---    \n",
    "    \n",
    "Can the test predict an actual negative case?\n",
    "- How many of the patients without the condition are testing negative?\n",
    "    - Look at the number of times the patient had (a negative test and did **not** have the condition) considering that they (did **not** have the condition)\n",
    "    - $\\huge \\frac{\\text{Actual Negative and Predicted Negative}}{\\text{Actual Negative}} = \\frac{TN}{TN + \\color{red}{FP}} $  <br><br>\n",
    "- How many of the negative test are patients without the condition?\n",
    "    - Look at the number of times the patient had (a negative test and did **not** have the condition) considering that they (tested negative)\n",
    "    - $\\huge \\frac{\\text{Actual Negative and Predicted Negative}}{\\text{Predicted Negative}} = \\frac{TN}{TN + \\color{red}{FN}} $"
   ],
   "metadata": {
    "collapsed": false
   },
   "id": "275e758edb3f0658"
  },
  {
   "cell_type": "markdown",
   "source": [
    "### Lets name these statistics\n",
    "\n",
    "<details>\n",
    "  <summary markdown=\"span\">How many of the actual cases are testing positive?</summary>\n",
    "\n",
    "  &emsp; **Sensitivity**\n",
    "</details>\n",
    "<details>\n",
    "  <summary markdown=\"span\">How many of the positive tests are actual case?</summary>\n",
    "\n",
    "  &emsp; **Positive predicitive value**\n",
    "</details>\n",
    "<details>\n",
    "  <summary markdown=\"span\">How many of the patients without the condition are testing negative?</summary>\n",
    "\n",
    "  &emsp; **Specificity**\n",
    "</details>\n",
    "<details>\n",
    "  <summary markdown=\"span\">How many of the negative tests are patients without the condition?</summary>\n",
    "\n",
    "  &emsp; **Negative predictive value**\n",
    "</details>"
   ],
   "metadata": {
    "collapsed": false
   },
   "id": "bf3bbac4ad04d4b9"
  },
  {
   "cell_type": "code",
   "execution_count": 1,
   "outputs": [
    {
     "ename": "ModuleNotFoundError",
     "evalue": "No module named 'matplotlib'",
     "output_type": "error",
     "traceback": [
      "\u001B[1;31m---------------------------------------------------------------------------\u001B[0m",
      "\u001B[1;31mModuleNotFoundError\u001B[0m                       Traceback (most recent call last)",
      "Cell \u001B[1;32mIn[1], line 1\u001B[0m\n\u001B[1;32m----> 1\u001B[0m \u001B[43mget_ipython\u001B[49m\u001B[43m(\u001B[49m\u001B[43m)\u001B[49m\u001B[38;5;241;43m.\u001B[39;49m\u001B[43mrun_line_magic\u001B[49m\u001B[43m(\u001B[49m\u001B[38;5;124;43m'\u001B[39;49m\u001B[38;5;124;43mmatplotlib\u001B[39;49m\u001B[38;5;124;43m'\u001B[39;49m\u001B[43m,\u001B[49m\u001B[43m \u001B[49m\u001B[38;5;124;43m'\u001B[39;49m\u001B[38;5;124;43minline\u001B[39;49m\u001B[38;5;124;43m'\u001B[39;49m\u001B[43m)\u001B[49m\n\u001B[0;32m      2\u001B[0m \u001B[38;5;28;01mimport\u001B[39;00m \u001B[38;5;21;01mmatplotlib\u001B[39;00m\u001B[38;5;21;01m.\u001B[39;00m\u001B[38;5;21;01mpyplot\u001B[39;00m \u001B[38;5;28;01mas\u001B[39;00m \u001B[38;5;21;01mplt\u001B[39;00m\n\u001B[0;32m      3\u001B[0m \u001B[38;5;28;01mimport\u001B[39;00m \u001B[38;5;21;01mnumpy\u001B[39;00m \u001B[38;5;28;01mas\u001B[39;00m \u001B[38;5;21;01mnp\u001B[39;00m\n",
      "File \u001B[1;32m~\\PycharmProjects\\lectures\\venv\\lib\\site-packages\\IPython\\core\\interactiveshell.py:2432\u001B[0m, in \u001B[0;36mInteractiveShell.run_line_magic\u001B[1;34m(self, magic_name, line, _stack_depth)\u001B[0m\n\u001B[0;32m   2430\u001B[0m     kwargs[\u001B[38;5;124m'\u001B[39m\u001B[38;5;124mlocal_ns\u001B[39m\u001B[38;5;124m'\u001B[39m] \u001B[38;5;241m=\u001B[39m \u001B[38;5;28mself\u001B[39m\u001B[38;5;241m.\u001B[39mget_local_scope(stack_depth)\n\u001B[0;32m   2431\u001B[0m \u001B[38;5;28;01mwith\u001B[39;00m \u001B[38;5;28mself\u001B[39m\u001B[38;5;241m.\u001B[39mbuiltin_trap:\n\u001B[1;32m-> 2432\u001B[0m     result \u001B[38;5;241m=\u001B[39m fn(\u001B[38;5;241m*\u001B[39margs, \u001B[38;5;241m*\u001B[39m\u001B[38;5;241m*\u001B[39mkwargs)\n\u001B[0;32m   2434\u001B[0m \u001B[38;5;66;03m# The code below prevents the output from being displayed\u001B[39;00m\n\u001B[0;32m   2435\u001B[0m \u001B[38;5;66;03m# when using magics with decorator @output_can_be_silenced\u001B[39;00m\n\u001B[0;32m   2436\u001B[0m \u001B[38;5;66;03m# when the last Python token in the expression is a ';'.\u001B[39;00m\n\u001B[0;32m   2437\u001B[0m \u001B[38;5;28;01mif\u001B[39;00m \u001B[38;5;28mgetattr\u001B[39m(fn, magic\u001B[38;5;241m.\u001B[39mMAGIC_OUTPUT_CAN_BE_SILENCED, \u001B[38;5;28;01mFalse\u001B[39;00m):\n",
      "File \u001B[1;32m~\\PycharmProjects\\lectures\\venv\\lib\\site-packages\\IPython\\core\\magics\\pylab.py:99\u001B[0m, in \u001B[0;36mPylabMagics.matplotlib\u001B[1;34m(self, line)\u001B[0m\n\u001B[0;32m     97\u001B[0m     \u001B[38;5;28mprint\u001B[39m(\u001B[38;5;124m\"\u001B[39m\u001B[38;5;124mAvailable matplotlib backends: \u001B[39m\u001B[38;5;132;01m%s\u001B[39;00m\u001B[38;5;124m\"\u001B[39m \u001B[38;5;241m%\u001B[39m backends_list)\n\u001B[0;32m     98\u001B[0m \u001B[38;5;28;01melse\u001B[39;00m:\n\u001B[1;32m---> 99\u001B[0m     gui, backend \u001B[38;5;241m=\u001B[39m \u001B[38;5;28;43mself\u001B[39;49m\u001B[38;5;241;43m.\u001B[39;49m\u001B[43mshell\u001B[49m\u001B[38;5;241;43m.\u001B[39;49m\u001B[43menable_matplotlib\u001B[49m\u001B[43m(\u001B[49m\u001B[43margs\u001B[49m\u001B[38;5;241;43m.\u001B[39;49m\u001B[43mgui\u001B[49m\u001B[38;5;241;43m.\u001B[39;49m\u001B[43mlower\u001B[49m\u001B[43m(\u001B[49m\u001B[43m)\u001B[49m\u001B[43m \u001B[49m\u001B[38;5;28;43;01mif\u001B[39;49;00m\u001B[43m \u001B[49m\u001B[38;5;28;43misinstance\u001B[39;49m\u001B[43m(\u001B[49m\u001B[43margs\u001B[49m\u001B[38;5;241;43m.\u001B[39;49m\u001B[43mgui\u001B[49m\u001B[43m,\u001B[49m\u001B[43m \u001B[49m\u001B[38;5;28;43mstr\u001B[39;49m\u001B[43m)\u001B[49m\u001B[43m \u001B[49m\u001B[38;5;28;43;01melse\u001B[39;49;00m\u001B[43m \u001B[49m\u001B[43margs\u001B[49m\u001B[38;5;241;43m.\u001B[39;49m\u001B[43mgui\u001B[49m\u001B[43m)\u001B[49m\n\u001B[0;32m    100\u001B[0m     \u001B[38;5;28mself\u001B[39m\u001B[38;5;241m.\u001B[39m_show_matplotlib_backend(args\u001B[38;5;241m.\u001B[39mgui, backend)\n",
      "File \u001B[1;32m~\\PycharmProjects\\lectures\\venv\\lib\\site-packages\\IPython\\core\\interactiveshell.py:3606\u001B[0m, in \u001B[0;36mInteractiveShell.enable_matplotlib\u001B[1;34m(self, gui)\u001B[0m\n\u001B[0;32m   3585\u001B[0m \u001B[38;5;28;01mdef\u001B[39;00m \u001B[38;5;21menable_matplotlib\u001B[39m(\u001B[38;5;28mself\u001B[39m, gui\u001B[38;5;241m=\u001B[39m\u001B[38;5;28;01mNone\u001B[39;00m):\n\u001B[0;32m   3586\u001B[0m \u001B[38;5;250m    \u001B[39m\u001B[38;5;124;03m\"\"\"Enable interactive matplotlib and inline figure support.\u001B[39;00m\n\u001B[0;32m   3587\u001B[0m \n\u001B[0;32m   3588\u001B[0m \u001B[38;5;124;03m    This takes the following steps:\u001B[39;00m\n\u001B[1;32m   (...)\u001B[0m\n\u001B[0;32m   3604\u001B[0m \u001B[38;5;124;03m        display figures inline.\u001B[39;00m\n\u001B[0;32m   3605\u001B[0m \u001B[38;5;124;03m    \"\"\"\u001B[39;00m\n\u001B[1;32m-> 3606\u001B[0m     \u001B[38;5;28;01mfrom\u001B[39;00m \u001B[38;5;21;01mmatplotlib_inline\u001B[39;00m\u001B[38;5;21;01m.\u001B[39;00m\u001B[38;5;21;01mbackend_inline\u001B[39;00m \u001B[38;5;28;01mimport\u001B[39;00m configure_inline_support\n\u001B[0;32m   3608\u001B[0m     \u001B[38;5;28;01mfrom\u001B[39;00m \u001B[38;5;21;01mIPython\u001B[39;00m\u001B[38;5;21;01m.\u001B[39;00m\u001B[38;5;21;01mcore\u001B[39;00m \u001B[38;5;28;01mimport\u001B[39;00m pylabtools \u001B[38;5;28;01mas\u001B[39;00m pt\n\u001B[0;32m   3609\u001B[0m     gui, backend \u001B[38;5;241m=\u001B[39m pt\u001B[38;5;241m.\u001B[39mfind_gui_and_backend(gui, \u001B[38;5;28mself\u001B[39m\u001B[38;5;241m.\u001B[39mpylab_gui_select)\n",
      "File \u001B[1;32m~\\PycharmProjects\\lectures\\venv\\lib\\site-packages\\matplotlib_inline\\__init__.py:1\u001B[0m\n\u001B[1;32m----> 1\u001B[0m \u001B[38;5;28;01mfrom\u001B[39;00m \u001B[38;5;21;01m.\u001B[39;00m \u001B[38;5;28;01mimport\u001B[39;00m backend_inline, config  \u001B[38;5;66;03m# noqa\u001B[39;00m\n\u001B[0;32m      2\u001B[0m __version__ \u001B[38;5;241m=\u001B[39m \u001B[38;5;124m\"\u001B[39m\u001B[38;5;124m0.1.6\u001B[39m\u001B[38;5;124m\"\u001B[39m  \u001B[38;5;66;03m# noqa\u001B[39;00m\n",
      "File \u001B[1;32m~\\PycharmProjects\\lectures\\venv\\lib\\site-packages\\matplotlib_inline\\backend_inline.py:6\u001B[0m\n\u001B[0;32m      1\u001B[0m \u001B[38;5;124;03m\"\"\"A matplotlib backend for publishing figures via display_data\"\"\"\u001B[39;00m\n\u001B[0;32m      3\u001B[0m \u001B[38;5;66;03m# Copyright (c) IPython Development Team.\u001B[39;00m\n\u001B[0;32m      4\u001B[0m \u001B[38;5;66;03m# Distributed under the terms of the BSD 3-Clause License.\u001B[39;00m\n\u001B[1;32m----> 6\u001B[0m \u001B[38;5;28;01mimport\u001B[39;00m \u001B[38;5;21;01mmatplotlib\u001B[39;00m\n\u001B[0;32m      7\u001B[0m \u001B[38;5;28;01mfrom\u001B[39;00m \u001B[38;5;21;01mmatplotlib\u001B[39;00m \u001B[38;5;28;01mimport\u001B[39;00m colors\n\u001B[0;32m      8\u001B[0m \u001B[38;5;28;01mfrom\u001B[39;00m \u001B[38;5;21;01mmatplotlib\u001B[39;00m\u001B[38;5;21;01m.\u001B[39;00m\u001B[38;5;21;01mbackends\u001B[39;00m \u001B[38;5;28;01mimport\u001B[39;00m backend_agg\n",
      "\u001B[1;31mModuleNotFoundError\u001B[0m: No module named 'matplotlib'"
     ]
    }
   ],
   "source": [
    "%matplotlib inline\n",
    "import matplotlib.pyplot as plt\n",
    "import numpy as np\n",
    "from ipywidgets import interact"
   ],
   "metadata": {
    "collapsed": false,
    "ExecuteTime": {
     "end_time": "2023-10-25T19:32:48.954949Z",
     "start_time": "2023-10-25T19:32:47.903973900Z"
    }
   },
   "id": "91f5ceffd7f4bf58"
  },
  {
   "cell_type": "code",
   "execution_count": null,
   "outputs": [],
   "source": [
    "def plot_cases(Specificity=0.8, Sensitivity=0.8):\n",
    "    N = 1000\n",
    "    result_specificity = np.random.choice(['red','black'],int(N/2), p = [1.0 - Specificity, Specificity])\n",
    "    result_sensitivity = np.random.choice(['blue','black'],int(N/2), p = [1.0 - Sensitivity, Sensitivity])\n",
    "    \n",
    "    random_specificity_x = np.random.uniform(0,4.9, int(N/2))\n",
    "    random_specificity_y = np.random.uniform(0,10, int(N/2))\n",
    "    random_sensitivity_x = np.random.uniform(5.1,10, int(N/2))\n",
    "    random_sensitivity_y = np.random.uniform(0,10, int(N/2))\n",
    "\n",
    "    fig= plt.figure(figsize=(8,8))\n",
    "\n",
    "    plt.scatter(random_sensitivity_x,random_sensitivity_y, c = result_sensitivity)\n",
    "    plt.scatter(random_specificity_x,random_specificity_y, c = result_specificity)\n",
    "    x1, y1 = [5, 5], [0, 10]\n",
    "    plt.plot(x1,y1, c='grey')\n",
    "\n",
    "    results = []\n",
    "    TP_count = 0\n",
    "    FP_count = 0\n",
    "    TN_count = 0\n",
    "    FN_count = 0\n",
    "    for elem in result_specificity:\n",
    "        if elem == 'red':\n",
    "            results.append(\"FN\")\n",
    "            FN_count += 1\n",
    "        else:\n",
    "            results.append(\"TN\")\n",
    "            TN_count += 1\n",
    "    for elem in result_sensitivity:\n",
    "        if elem == 'blue':\n",
    "            results.append(\"FP\")\n",
    "            FP_count += 1\n",
    "        else:\n",
    "            results.append(\"TP\")\n",
    "            TP_count += 1\n",
    "        \n",
    "    PPV = TP_count / (TP_count + FP_count)\n",
    "    NPV = TN_count / (TN_count + FN_count)\n",
    "    print(f\"Positive predictive value: {PPV}\")\n",
    "    print(f\"Negative predictive value: {NPV}\")\n",
    "    \n",
    "    plt.show()\n",
    "    return results"
   ],
   "metadata": {
    "collapsed": false,
    "is_executing": true
   },
   "id": "c765a37c092729ff"
  },
  {
   "cell_type": "code",
   "execution_count": null,
   "outputs": [],
   "source": [
    "print(\"Impact of Sensitivity and Specificity\")\n",
    "print(\"Colored dots represent a false result, left are positive results and the right are negative results\")\n",
    "results = interact(plot_cases, specificity=(0.0,0.99, 0.01), sensitivity=(0.0,0.99, 0.01))\n",
    "print('-'*80)"
   ],
   "metadata": {
    "collapsed": false
   },
   "id": "35b63665866da8fa"
  }
 ],
 "metadata": {
  "kernelspec": {
   "display_name": "Python 3",
   "language": "python",
   "name": "python3"
  },
  "language_info": {
   "codemirror_mode": {
    "name": "ipython",
    "version": 2
   },
   "file_extension": ".py",
   "mimetype": "text/x-python",
   "name": "python",
   "nbconvert_exporter": "python",
   "pygments_lexer": "ipython2",
   "version": "2.7.6"
  }
 },
 "nbformat": 4,
 "nbformat_minor": 5
}
